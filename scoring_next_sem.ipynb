{
  "nbformat": 4,
  "nbformat_minor": 0,
  "metadata": {
    "colab": {
      "provenance": [],
      "collapsed_sections": [
        "heFaiQ9HCW0B"
      ]
    },
    "kernelspec": {
      "name": "python3",
      "display_name": "Python 3"
    },
    "language_info": {
      "name": "python"
    }
  },
  "cells": [
    {
      "cell_type": "markdown",
      "source": [
        "# Практика"
      ],
      "metadata": {
        "id": "h_C_43VEVfEP"
      }
    },
    {
      "cell_type": "markdown",
      "source": [
        "Скоринг учащихся (следующий семестр на основе текущего, модель с учётом дисциплины)"
      ],
      "metadata": {
        "id": "ezBvht2pV8wc"
      }
    },
    {
      "cell_type": "markdown",
      "source": [
        "Команда\n",
        "- Product owner: Антонов Илья\n",
        "- Scrum-master: Нейман Алексей\n",
        "- Team: Лебкова Марина, Чвиков Матвей, Махров Матвей, Бобков Егор, Труфманов Михаил"
      ],
      "metadata": {
        "id": "slsi6TZRWLuV"
      }
    },
    {
      "cell_type": "markdown",
      "source": [
        "## Загрузка библиотек"
      ],
      "metadata": {
        "id": "3aNmJEitWSF0"
      }
    },
    {
      "cell_type": "code",
      "source": [
        "!pip install catboost\n",
        "!pip install optuna"
      ],
      "metadata": {
        "colab": {
          "base_uri": "https://localhost:8080/"
        },
        "id": "YVLHDchcZsjA",
        "outputId": "09551498-1971-4951-fd9d-ae9d32aaa79a"
      },
      "execution_count": 1,
      "outputs": [
        {
          "output_type": "stream",
          "name": "stdout",
          "text": [
            "Collecting catboost\n",
            "  Downloading catboost-1.2.8-cp311-cp311-manylinux2014_x86_64.whl.metadata (1.2 kB)\n",
            "Requirement already satisfied: graphviz in /usr/local/lib/python3.11/dist-packages (from catboost) (0.20.3)\n",
            "Requirement already satisfied: matplotlib in /usr/local/lib/python3.11/dist-packages (from catboost) (3.10.0)\n",
            "Requirement already satisfied: numpy<3.0,>=1.16.0 in /usr/local/lib/python3.11/dist-packages (from catboost) (2.0.2)\n",
            "Requirement already satisfied: pandas>=0.24 in /usr/local/lib/python3.11/dist-packages (from catboost) (2.2.2)\n",
            "Requirement already satisfied: scipy in /usr/local/lib/python3.11/dist-packages (from catboost) (1.15.3)\n",
            "Requirement already satisfied: plotly in /usr/local/lib/python3.11/dist-packages (from catboost) (5.24.1)\n",
            "Requirement already satisfied: six in /usr/local/lib/python3.11/dist-packages (from catboost) (1.17.0)\n",
            "Requirement already satisfied: python-dateutil>=2.8.2 in /usr/local/lib/python3.11/dist-packages (from pandas>=0.24->catboost) (2.9.0.post0)\n",
            "Requirement already satisfied: pytz>=2020.1 in /usr/local/lib/python3.11/dist-packages (from pandas>=0.24->catboost) (2025.2)\n",
            "Requirement already satisfied: tzdata>=2022.7 in /usr/local/lib/python3.11/dist-packages (from pandas>=0.24->catboost) (2025.2)\n",
            "Requirement already satisfied: contourpy>=1.0.1 in /usr/local/lib/python3.11/dist-packages (from matplotlib->catboost) (1.3.2)\n",
            "Requirement already satisfied: cycler>=0.10 in /usr/local/lib/python3.11/dist-packages (from matplotlib->catboost) (0.12.1)\n",
            "Requirement already satisfied: fonttools>=4.22.0 in /usr/local/lib/python3.11/dist-packages (from matplotlib->catboost) (4.57.0)\n",
            "Requirement already satisfied: kiwisolver>=1.3.1 in /usr/local/lib/python3.11/dist-packages (from matplotlib->catboost) (1.4.8)\n",
            "Requirement already satisfied: packaging>=20.0 in /usr/local/lib/python3.11/dist-packages (from matplotlib->catboost) (24.2)\n",
            "Requirement already satisfied: pillow>=8 in /usr/local/lib/python3.11/dist-packages (from matplotlib->catboost) (11.2.1)\n",
            "Requirement already satisfied: pyparsing>=2.3.1 in /usr/local/lib/python3.11/dist-packages (from matplotlib->catboost) (3.2.3)\n",
            "Requirement already satisfied: tenacity>=6.2.0 in /usr/local/lib/python3.11/dist-packages (from plotly->catboost) (9.1.2)\n",
            "Downloading catboost-1.2.8-cp311-cp311-manylinux2014_x86_64.whl (99.2 MB)\n",
            "\u001b[2K   \u001b[90m━━━━━━━━━━━━━━━━━━━━━━━━━━━━━━━━━━━━━━━━\u001b[0m \u001b[32m99.2/99.2 MB\u001b[0m \u001b[31m8.2 MB/s\u001b[0m eta \u001b[36m0:00:00\u001b[0m\n",
            "\u001b[?25hInstalling collected packages: catboost\n",
            "Successfully installed catboost-1.2.8\n",
            "Collecting optuna\n",
            "  Downloading optuna-4.3.0-py3-none-any.whl.metadata (17 kB)\n",
            "Collecting alembic>=1.5.0 (from optuna)\n",
            "  Downloading alembic-1.15.2-py3-none-any.whl.metadata (7.3 kB)\n",
            "Collecting colorlog (from optuna)\n",
            "  Downloading colorlog-6.9.0-py3-none-any.whl.metadata (10 kB)\n",
            "Requirement already satisfied: numpy in /usr/local/lib/python3.11/dist-packages (from optuna) (2.0.2)\n",
            "Requirement already satisfied: packaging>=20.0 in /usr/local/lib/python3.11/dist-packages (from optuna) (24.2)\n",
            "Requirement already satisfied: sqlalchemy>=1.4.2 in /usr/local/lib/python3.11/dist-packages (from optuna) (2.0.40)\n",
            "Requirement already satisfied: tqdm in /usr/local/lib/python3.11/dist-packages (from optuna) (4.67.1)\n",
            "Requirement already satisfied: PyYAML in /usr/local/lib/python3.11/dist-packages (from optuna) (6.0.2)\n",
            "Requirement already satisfied: Mako in /usr/lib/python3/dist-packages (from alembic>=1.5.0->optuna) (1.1.3)\n",
            "Requirement already satisfied: typing-extensions>=4.12 in /usr/local/lib/python3.11/dist-packages (from alembic>=1.5.0->optuna) (4.13.2)\n",
            "Requirement already satisfied: greenlet>=1 in /usr/local/lib/python3.11/dist-packages (from sqlalchemy>=1.4.2->optuna) (3.2.1)\n",
            "Downloading optuna-4.3.0-py3-none-any.whl (386 kB)\n",
            "\u001b[2K   \u001b[90m━━━━━━━━━━━━━━━━━━━━━━━━━━━━━━━━━━━━━━━━\u001b[0m \u001b[32m386.6/386.6 kB\u001b[0m \u001b[31m8.6 MB/s\u001b[0m eta \u001b[36m0:00:00\u001b[0m\n",
            "\u001b[?25hDownloading alembic-1.15.2-py3-none-any.whl (231 kB)\n",
            "\u001b[2K   \u001b[90m━━━━━━━━━━━━━━━━━━━━━━━━━━━━━━━━━━━━━━━━\u001b[0m \u001b[32m231.9/231.9 kB\u001b[0m \u001b[31m18.2 MB/s\u001b[0m eta \u001b[36m0:00:00\u001b[0m\n",
            "\u001b[?25hDownloading colorlog-6.9.0-py3-none-any.whl (11 kB)\n",
            "Installing collected packages: colorlog, alembic, optuna\n",
            "Successfully installed alembic-1.15.2 colorlog-6.9.0 optuna-4.3.0\n"
          ]
        }
      ]
    },
    {
      "cell_type": "code",
      "execution_count": 2,
      "metadata": {
        "id": "P9_e0vZAZrXp"
      },
      "outputs": [],
      "source": [
        "import pandas as pd\n",
        "import numpy as np\n",
        "from sklearn.model_selection import train_test_split, KFold, RandomizedSearchCV\n",
        "from sklearn.metrics import f1_score, mean_squared_error, mean_absolute_error, r2_score\n",
        "from catboost import Pool, CatBoost, CatBoostRegressor, cv"
      ]
    },
    {
      "cell_type": "markdown",
      "source": [
        "## Предобработка данных"
      ],
      "metadata": {
        "id": "heFaiQ9HCW0B"
      }
    },
    {
      "cell_type": "code",
      "source": [
        "pre_data = pd.read_excel('Успеваемость_01.xlsx')"
      ],
      "metadata": {
        "id": "LToIRHhNCWWZ",
        "colab": {
          "base_uri": "https://localhost:8080/",
          "height": 299
        },
        "outputId": "7d563ad7-0418-4801-bbe6-f1ea2455dbb8"
      },
      "execution_count": 3,
      "outputs": [
        {
          "output_type": "error",
          "ename": "FileNotFoundError",
          "evalue": "[Errno 2] No such file or directory: 'Успеваемость_01.xlsx'",
          "traceback": [
            "\u001b[0;31m---------------------------------------------------------------------------\u001b[0m",
            "\u001b[0;31mFileNotFoundError\u001b[0m                         Traceback (most recent call last)",
            "\u001b[0;32m<ipython-input-3-183a5145c821>\u001b[0m in \u001b[0;36m<cell line: 0>\u001b[0;34m()\u001b[0m\n\u001b[0;32m----> 1\u001b[0;31m \u001b[0mpre_data\u001b[0m \u001b[0;34m=\u001b[0m \u001b[0mpd\u001b[0m\u001b[0;34m.\u001b[0m\u001b[0mread_excel\u001b[0m\u001b[0;34m(\u001b[0m\u001b[0;34m'Успеваемость_01.xlsx'\u001b[0m\u001b[0;34m)\u001b[0m\u001b[0;34m\u001b[0m\u001b[0;34m\u001b[0m\u001b[0m\n\u001b[0m",
            "\u001b[0;32m/usr/local/lib/python3.11/dist-packages/pandas/io/excel/_base.py\u001b[0m in \u001b[0;36mread_excel\u001b[0;34m(io, sheet_name, header, names, index_col, usecols, dtype, engine, converters, true_values, false_values, skiprows, nrows, na_values, keep_default_na, na_filter, verbose, parse_dates, date_parser, date_format, thousands, decimal, comment, skipfooter, storage_options, dtype_backend, engine_kwargs)\u001b[0m\n\u001b[1;32m    493\u001b[0m     \u001b[0;32mif\u001b[0m \u001b[0;32mnot\u001b[0m \u001b[0misinstance\u001b[0m\u001b[0;34m(\u001b[0m\u001b[0mio\u001b[0m\u001b[0;34m,\u001b[0m \u001b[0mExcelFile\u001b[0m\u001b[0;34m)\u001b[0m\u001b[0;34m:\u001b[0m\u001b[0;34m\u001b[0m\u001b[0;34m\u001b[0m\u001b[0m\n\u001b[1;32m    494\u001b[0m         \u001b[0mshould_close\u001b[0m \u001b[0;34m=\u001b[0m \u001b[0;32mTrue\u001b[0m\u001b[0;34m\u001b[0m\u001b[0;34m\u001b[0m\u001b[0m\n\u001b[0;32m--> 495\u001b[0;31m         io = ExcelFile(\n\u001b[0m\u001b[1;32m    496\u001b[0m             \u001b[0mio\u001b[0m\u001b[0;34m,\u001b[0m\u001b[0;34m\u001b[0m\u001b[0;34m\u001b[0m\u001b[0m\n\u001b[1;32m    497\u001b[0m             \u001b[0mstorage_options\u001b[0m\u001b[0;34m=\u001b[0m\u001b[0mstorage_options\u001b[0m\u001b[0;34m,\u001b[0m\u001b[0;34m\u001b[0m\u001b[0;34m\u001b[0m\u001b[0m\n",
            "\u001b[0;32m/usr/local/lib/python3.11/dist-packages/pandas/io/excel/_base.py\u001b[0m in \u001b[0;36m__init__\u001b[0;34m(self, path_or_buffer, engine, storage_options, engine_kwargs)\u001b[0m\n\u001b[1;32m   1548\u001b[0m                 \u001b[0mext\u001b[0m \u001b[0;34m=\u001b[0m \u001b[0;34m\"xls\"\u001b[0m\u001b[0;34m\u001b[0m\u001b[0;34m\u001b[0m\u001b[0m\n\u001b[1;32m   1549\u001b[0m             \u001b[0;32melse\u001b[0m\u001b[0;34m:\u001b[0m\u001b[0;34m\u001b[0m\u001b[0;34m\u001b[0m\u001b[0m\n\u001b[0;32m-> 1550\u001b[0;31m                 ext = inspect_excel_format(\n\u001b[0m\u001b[1;32m   1551\u001b[0m                     \u001b[0mcontent_or_path\u001b[0m\u001b[0;34m=\u001b[0m\u001b[0mpath_or_buffer\u001b[0m\u001b[0;34m,\u001b[0m \u001b[0mstorage_options\u001b[0m\u001b[0;34m=\u001b[0m\u001b[0mstorage_options\u001b[0m\u001b[0;34m\u001b[0m\u001b[0;34m\u001b[0m\u001b[0m\n\u001b[1;32m   1552\u001b[0m                 )\n",
            "\u001b[0;32m/usr/local/lib/python3.11/dist-packages/pandas/io/excel/_base.py\u001b[0m in \u001b[0;36minspect_excel_format\u001b[0;34m(content_or_path, storage_options)\u001b[0m\n\u001b[1;32m   1400\u001b[0m         \u001b[0mcontent_or_path\u001b[0m \u001b[0;34m=\u001b[0m \u001b[0mBytesIO\u001b[0m\u001b[0;34m(\u001b[0m\u001b[0mcontent_or_path\u001b[0m\u001b[0;34m)\u001b[0m\u001b[0;34m\u001b[0m\u001b[0;34m\u001b[0m\u001b[0m\n\u001b[1;32m   1401\u001b[0m \u001b[0;34m\u001b[0m\u001b[0m\n\u001b[0;32m-> 1402\u001b[0;31m     with get_handle(\n\u001b[0m\u001b[1;32m   1403\u001b[0m         \u001b[0mcontent_or_path\u001b[0m\u001b[0;34m,\u001b[0m \u001b[0;34m\"rb\"\u001b[0m\u001b[0;34m,\u001b[0m \u001b[0mstorage_options\u001b[0m\u001b[0;34m=\u001b[0m\u001b[0mstorage_options\u001b[0m\u001b[0;34m,\u001b[0m \u001b[0mis_text\u001b[0m\u001b[0;34m=\u001b[0m\u001b[0;32mFalse\u001b[0m\u001b[0;34m\u001b[0m\u001b[0;34m\u001b[0m\u001b[0m\n\u001b[1;32m   1404\u001b[0m     ) as handle:\n",
            "\u001b[0;32m/usr/local/lib/python3.11/dist-packages/pandas/io/common.py\u001b[0m in \u001b[0;36mget_handle\u001b[0;34m(path_or_buf, mode, encoding, compression, memory_map, is_text, errors, storage_options)\u001b[0m\n\u001b[1;32m    880\u001b[0m         \u001b[0;32melse\u001b[0m\u001b[0;34m:\u001b[0m\u001b[0;34m\u001b[0m\u001b[0;34m\u001b[0m\u001b[0m\n\u001b[1;32m    881\u001b[0m             \u001b[0;31m# Binary mode\u001b[0m\u001b[0;34m\u001b[0m\u001b[0;34m\u001b[0m\u001b[0m\n\u001b[0;32m--> 882\u001b[0;31m             \u001b[0mhandle\u001b[0m \u001b[0;34m=\u001b[0m \u001b[0mopen\u001b[0m\u001b[0;34m(\u001b[0m\u001b[0mhandle\u001b[0m\u001b[0;34m,\u001b[0m \u001b[0mioargs\u001b[0m\u001b[0;34m.\u001b[0m\u001b[0mmode\u001b[0m\u001b[0;34m)\u001b[0m\u001b[0;34m\u001b[0m\u001b[0;34m\u001b[0m\u001b[0m\n\u001b[0m\u001b[1;32m    883\u001b[0m         \u001b[0mhandles\u001b[0m\u001b[0;34m.\u001b[0m\u001b[0mappend\u001b[0m\u001b[0;34m(\u001b[0m\u001b[0mhandle\u001b[0m\u001b[0;34m)\u001b[0m\u001b[0;34m\u001b[0m\u001b[0;34m\u001b[0m\u001b[0m\n\u001b[1;32m    884\u001b[0m \u001b[0;34m\u001b[0m\u001b[0m\n",
            "\u001b[0;31mFileNotFoundError\u001b[0m: [Errno 2] No such file or directory: 'Успеваемость_01.xlsx'"
          ]
        }
      ]
    },
    {
      "cell_type": "code",
      "source": [
        "pre_data.to_csv('/content/new_data.csv', index=False)"
      ],
      "metadata": {
        "id": "Nldbj68xDABd"
      },
      "execution_count": null,
      "outputs": []
    },
    {
      "cell_type": "code",
      "source": [
        "df_new = pd.read_csv('new_data.csv')"
      ],
      "metadata": {
        "id": "ByeWGZ6xDSJD"
      },
      "execution_count": null,
      "outputs": []
    },
    {
      "cell_type": "code",
      "source": [
        "df_new.head(1)"
      ],
      "metadata": {
        "id": "jZtIvCYPDZ16"
      },
      "execution_count": null,
      "outputs": []
    },
    {
      "cell_type": "code",
      "source": [
        "df_new = df_new.replace({'I полугодие': 1, 'II полугодие': 2})"
      ],
      "metadata": {
        "id": "66GAOyoFfGA8"
      },
      "execution_count": null,
      "outputs": []
    },
    {
      "cell_type": "markdown",
      "source": [
        "#### Удаление данных"
      ],
      "metadata": {
        "id": "fj4eFt5eZwtq"
      }
    },
    {
      "cell_type": "markdown",
      "source": [
        "Удаление учебных годов (практически) без оценок"
      ],
      "metadata": {
        "id": "r-nW1_jm7iVI"
      }
    },
    {
      "cell_type": "code",
      "source": [
        "years_to_exclude = ['2023 - 2024', '2024 - 2025', '2025 - 2026', '2026 - 2027', '2027 - 2028']\n",
        "\n",
        "df_new = df_new[~df_new['Учебный год'].isin(years_to_exclude)].copy()"
      ],
      "metadata": {
        "id": "nWu7GxXhwoRP"
      },
      "execution_count": null,
      "outputs": []
    },
    {
      "cell_type": "code",
      "source": [
        "df_new = df_new[~df_new['Учебная группа'].str.contains('22')].copy()"
      ],
      "metadata": {
        "id": "SAVTiLLQq6-L"
      },
      "execution_count": null,
      "outputs": []
    },
    {
      "cell_type": "markdown",
      "source": [
        "Удаление предметов без оценки"
      ],
      "metadata": {
        "id": "j_vBZmU27mwl"
      }
    },
    {
      "cell_type": "code",
      "source": [
        "df_new = df_new.dropna(subset=['Оценка (без пересдач)', 'Оценка (успеваемость)'], how='all')"
      ],
      "metadata": {
        "id": "4YRas32k7qs2"
      },
      "execution_count": null,
      "outputs": []
    },
    {
      "cell_type": "markdown",
      "source": [
        "#### Заполнение пропусков в промежуточной аттестации"
      ],
      "metadata": {
        "id": "U5sQvyl070NJ"
      }
    },
    {
      "cell_type": "markdown",
      "source": [
        "при условии, что есть итоговая оценка"
      ],
      "metadata": {
        "id": "AtnTm57IZ9H8"
      }
    },
    {
      "cell_type": "code",
      "source": [
        "df_new['Оценка (без пересдач)'] = df_new.apply(\n",
        "    lambda row: 2 if pd.isna(row['Оценка (без пересдач)']) and not pd.isna(row['Оценка (успеваемость)']) else row['Оценка (без пересдач)'],\n",
        "    axis=1\n",
        ")"
      ],
      "metadata": {
        "id": "TK87smHufS6H"
      },
      "execution_count": null,
      "outputs": []
    },
    {
      "cell_type": "markdown",
      "source": [
        "#### Добавление столбца с семестром"
      ],
      "metadata": {
        "id": "3GDD6nUjGcxx"
      }
    },
    {
      "cell_type": "code",
      "source": [
        "def calculate_semester(row):\n",
        "    group_year = int(row['Учебная группа'].split('-')[1])\n",
        "    start_year = int(row['Учебный год'].split(' - ')[0])\n",
        "    course = (start_year % 100) - group_year + 1\n",
        "    semester = course * 2 - 1 if row['Полугодие'] == 1 else course * 2\n",
        "    return semester\n",
        "\n",
        "df_new['Семестр'] = df_new.apply(calculate_semester, axis=1)"
      ],
      "metadata": {
        "id": "jAIY56m4GYD1"
      },
      "execution_count": null,
      "outputs": []
    },
    {
      "cell_type": "code",
      "source": [
        "df_new['Программа'] = df_new['Учебная группа'].str.split('-').str[0]"
      ],
      "metadata": {
        "id": "6jyKVcmquQed"
      },
      "execution_count": null,
      "outputs": []
    },
    {
      "cell_type": "code",
      "source": [
        "df_new.head(2)"
      ],
      "metadata": {
        "id": "FdVn7D16uV8I"
      },
      "execution_count": null,
      "outputs": []
    },
    {
      "cell_type": "code",
      "source": [
        "disciplines = len(df_new['Дисциплина'].unique())\n",
        "print(f'Количество уникальных дисциплин: {disciplines}')"
      ],
      "metadata": {
        "id": "G6NAolTKmGBt"
      },
      "execution_count": null,
      "outputs": []
    },
    {
      "cell_type": "code",
      "source": [
        "programs = len(df_new['Программа'].unique())\n",
        "print(f'Количество уникальных программ: {programs}')"
      ],
      "metadata": {
        "id": "9gcdVLOfubTu"
      },
      "execution_count": null,
      "outputs": []
    },
    {
      "cell_type": "code",
      "source": [
        "df = df_new\n",
        "df = df.drop(columns=['Номер ЛД', 'Учебная группа', 'Уровень подготовки', 'Учебный год', 'Полугодие', 'Специальность/направление'])"
      ],
      "metadata": {
        "id": "cPhLHkLV8eaU"
      },
      "execution_count": null,
      "outputs": []
    },
    {
      "cell_type": "code",
      "source": [
        "df.head(1)"
      ],
      "metadata": {
        "id": "lwno181VHE9_"
      },
      "execution_count": null,
      "outputs": []
    },
    {
      "cell_type": "markdown",
      "source": [
        "#### Кодирование оценок"
      ],
      "metadata": {
        "id": "HzDKh0DdaEii"
      }
    },
    {
      "cell_type": "code",
      "source": [
        "df.replace({'зачтено': 5, 'Отлично': 5,\n",
        "            'Хорошо': 4,\n",
        "            'Удовлетворительно': 3,\n",
        "            'Неудовлетворительно': 2, 'Неявка': 2, 'не зачтено': 2, 'Не допущен': 2,\n",
        "            'Неявка по ув.причине': 0\n",
        "            },\n",
        "           inplace=True)"
      ],
      "metadata": {
        "id": "_Q7xHEXQEBlF"
      },
      "execution_count": null,
      "outputs": []
    },
    {
      "cell_type": "markdown",
      "source": [
        "Так как по ТЗ все оставшиеся null у студента это 2, то заменим их:"
      ],
      "metadata": {
        "id": "VdkYQPKjJTNi"
      }
    },
    {
      "cell_type": "code",
      "source": [
        "df.fillna(2, inplace=True)"
      ],
      "metadata": {
        "id": "rT_JqxE9JOMB"
      },
      "execution_count": null,
      "outputs": []
    },
    {
      "cell_type": "code",
      "source": [
        "df.head(2)"
      ],
      "metadata": {
        "id": "MFwGl79t8f93"
      },
      "execution_count": null,
      "outputs": []
    },
    {
      "cell_type": "markdown",
      "source": [
        "#### Создание столбцов для каждого направления"
      ],
      "metadata": {
        "id": "F2xbBaHDJbuG"
      }
    },
    {
      "cell_type": "code",
      "source": [
        "df_programs = pd.get_dummies(df, columns=['Программа'], prefix='', prefix_sep='')\n",
        "df_programs = df_programs.drop(columns=['Дисциплина', 'Оценка (без пересдач)', 'Оценка (успеваемость)'])\n",
        "df_programs = df_programs.astype({col: int for col in df_programs.columns[1:]})\n",
        "df_programs = df_programs.drop_duplicates()"
      ],
      "metadata": {
        "id": "lZ6OYYQi6keM"
      },
      "execution_count": null,
      "outputs": []
    },
    {
      "cell_type": "code",
      "source": [
        "df_programs.head()"
      ],
      "metadata": {
        "id": "bqnDLo-tSBKR"
      },
      "execution_count": null,
      "outputs": []
    },
    {
      "cell_type": "markdown",
      "source": [
        "#### Создание столбцов для каждой дисциплины"
      ],
      "metadata": {
        "id": "7zjmR-k4UwVF"
      }
    },
    {
      "cell_type": "markdown",
      "source": [
        "Сопоставление промежуточной оценки соответствующей дисциплине"
      ],
      "metadata": {
        "id": "Rosth-_HaQHg"
      }
    },
    {
      "cell_type": "code",
      "source": [
        "pivot_df = df.pivot_table(index=['hash', 'Семестр'],\n",
        "                          columns='Дисциплина',\n",
        "                          values='Оценка (без пересдач)',\n",
        "                          aggfunc='first'\n",
        "                          ).reset_index()\n",
        "\n",
        "pivot_df.columns.name = None\n",
        "pivot_df.columns = [str(col) for col in pivot_df.columns]"
      ],
      "metadata": {
        "id": "qtpN_C-QHu-f"
      },
      "execution_count": null,
      "outputs": []
    },
    {
      "cell_type": "markdown",
      "source": [
        "Заполнение отсутствующих предметов нулями"
      ],
      "metadata": {
        "id": "2F-pCOedaWci"
      }
    },
    {
      "cell_type": "code",
      "source": [
        "pivot_df.fillna(0, inplace=True)"
      ],
      "metadata": {
        "id": "oX_lcDuJHzkp"
      },
      "execution_count": null,
      "outputs": []
    },
    {
      "cell_type": "code",
      "source": [
        "pivot_df = pivot_df.astype({col: int for col in pivot_df.columns[1:]})"
      ],
      "metadata": {
        "id": "dpy1QlDGYhrn"
      },
      "execution_count": null,
      "outputs": []
    },
    {
      "cell_type": "code",
      "source": [
        "pivot_df.head(2)"
      ],
      "metadata": {
        "id": "Rt3efVnSJC_N"
      },
      "execution_count": null,
      "outputs": []
    },
    {
      "cell_type": "markdown",
      "source": [
        "#### Подсчёт количества двоек в каждом семестре"
      ],
      "metadata": {
        "id": "iCrNvwO0VQGW"
      }
    },
    {
      "cell_type": "code",
      "source": [
        "df = pivot_df\n",
        "df.head(7)"
      ],
      "metadata": {
        "id": "jXYijWLyMvzM"
      },
      "execution_count": null,
      "outputs": []
    },
    {
      "cell_type": "code",
      "source": [
        "grades_columns = df.drop(['hash', 'Семестр'], axis=1)"
      ],
      "metadata": {
        "id": "zoDEJBIuYqDV"
      },
      "execution_count": null,
      "outputs": []
    },
    {
      "cell_type": "code",
      "source": [
        "df['count_2'] = (df == 2).sum(axis=1)\n",
        "df.head(7)"
      ],
      "metadata": {
        "id": "G5C1MVQErWXo"
      },
      "execution_count": null,
      "outputs": []
    },
    {
      "cell_type": "code",
      "source": [
        "# Смещение количества двоек наверх на одну строку для каждого студента\n",
        "df['next_sem_debts'] = df['count_2'].shift(-1).copy()\n",
        "# Если встретился следующий студент - последнему известному семестру текущего\n",
        "# студента соответсвует данное количество долгов без смещения\n",
        "df['next_sem_debts'] = np.where(df['hash'] != df['hash'].shift(-1), df['count_2'], df['next_sem_debts'])\n",
        "df['next_sem_debts'].fillna(df['count_2'], inplace=True)\n",
        "df = df.drop('count_2', axis=1)"
      ],
      "metadata": {
        "id": "nk1EG3xTsJDd"
      },
      "execution_count": null,
      "outputs": []
    },
    {
      "cell_type": "code",
      "source": [
        "df['next_sem_debts'] = df['next_sem_debts'].astype(int)"
      ],
      "metadata": {
        "id": "nekJSfi51uzA"
      },
      "execution_count": null,
      "outputs": []
    },
    {
      "cell_type": "code",
      "source": [
        "df"
      ],
      "metadata": {
        "id": "zAkhipEjrmmf"
      },
      "execution_count": null,
      "outputs": []
    },
    {
      "cell_type": "markdown",
      "source": [
        "#### Подсчёт количества каждого вида оценок"
      ],
      "metadata": {
        "id": "I5aZWd4_bexg"
      }
    },
    {
      "cell_type": "markdown",
      "source": [
        "для экспорта в другую модель"
      ],
      "metadata": {
        "id": "3zNucjxTbjD-"
      }
    },
    {
      "cell_type": "code",
      "source": [
        "subjects = df.apply(pd.Series.value_counts, axis=1)[[2, 3, 4, 5]].fillna(0)\n",
        "subjects = subjects.astype(int)\n",
        "\n",
        "#subjects['total'] = subjects[[2, 3, 4, 5]].sum(axis=1)\n",
        "#subjects['total'] = pd.to_numeric(subjects['total'], errors='coerce').fillna(0)\n",
        "subjects.head()"
      ],
      "metadata": {
        "id": "1qta8TX0yJFY"
      },
      "execution_count": null,
      "outputs": []
    },
    {
      "cell_type": "code",
      "source": [
        "df.head()"
      ],
      "metadata": {
        "id": "H_lYn33dJ1vQ"
      },
      "execution_count": null,
      "outputs": []
    },
    {
      "cell_type": "markdown",
      "source": [
        "#### Смещение столбцов"
      ],
      "metadata": {
        "id": "3QLR54osbl-i"
      }
    },
    {
      "cell_type": "code",
      "source": [
        "cols = df.columns.tolist()\n",
        "cols = cols[-1:] + cols[:-1]\n",
        "print(cols)"
      ],
      "metadata": {
        "id": "Sp3bJNUORXZ2"
      },
      "execution_count": null,
      "outputs": []
    },
    {
      "cell_type": "code",
      "source": [
        "df = df[cols]"
      ],
      "metadata": {
        "id": "R9QamwfRWsso"
      },
      "execution_count": null,
      "outputs": []
    },
    {
      "cell_type": "code",
      "source": [
        "lessons = df.columns.to_list()[2:]\n",
        "print(lessons)"
      ],
      "metadata": {
        "id": "SAyoNyGx8xw0"
      },
      "execution_count": null,
      "outputs": []
    },
    {
      "cell_type": "code",
      "source": [
        "df.head(3)"
      ],
      "metadata": {
        "id": "_zXSaaWZWDWm"
      },
      "execution_count": null,
      "outputs": []
    },
    {
      "cell_type": "code",
      "source": [
        "df = df.astype({col: int for col in df.columns[2:]})"
      ],
      "metadata": {
        "id": "CUVHIKYEOUOm"
      },
      "execution_count": null,
      "outputs": []
    },
    {
      "cell_type": "code",
      "source": [
        "df.head(3)"
      ],
      "metadata": {
        "id": "LBA6QdPGvIE7"
      },
      "execution_count": null,
      "outputs": []
    },
    {
      "cell_type": "markdown",
      "source": [
        "#### Объединение таблицы оценок с таблицей направлений"
      ],
      "metadata": {
        "id": "h_ei3eYWQGc3"
      }
    },
    {
      "cell_type": "code",
      "source": [
        "df_programs.head(1)"
      ],
      "metadata": {
        "id": "uYo6ZWBK5-m9"
      },
      "execution_count": null,
      "outputs": []
    },
    {
      "cell_type": "code",
      "source": [
        "df_merged = pd.merge(df, df_programs, on=['hash', 'Семестр'], how='inner')"
      ],
      "metadata": {
        "id": "uuKUS8cEQLFk"
      },
      "execution_count": null,
      "outputs": []
    },
    {
      "cell_type": "code",
      "source": [
        "df_merged.head()"
      ],
      "metadata": {
        "id": "OIdF62TJ6U_R"
      },
      "execution_count": null,
      "outputs": []
    },
    {
      "cell_type": "markdown",
      "source": [
        "### Обработка данных для другой модели, не учитывающей дисциплины"
      ],
      "metadata": {
        "id": "K9fIPNDuTpj2"
      }
    },
    {
      "cell_type": "code",
      "source": [
        "column_list = df_merged.columns.to_list()\n",
        "column_list = column_list[:3] + column_list[-19:]\n",
        "print(column_list)"
      ],
      "metadata": {
        "id": "ZM1gkXIZAp7Q"
      },
      "execution_count": null,
      "outputs": []
    },
    {
      "cell_type": "code",
      "source": [
        "df_merged_cnt = df_merged[column_list]\n",
        "df_merged_cnt = subjects.join(df_merged_cnt, how='inner')\n",
        "df_merged_cnt.head(2)"
      ],
      "metadata": {
        "id": "PZ0O5kyrBs2f"
      },
      "execution_count": null,
      "outputs": []
    },
    {
      "cell_type": "code",
      "source": [
        "df_merged_cnt.to_csv('num_of_debts.csv', index=False)"
      ],
      "metadata": {
        "id": "zO0et_l5B4To"
      },
      "execution_count": null,
      "outputs": []
    },
    {
      "cell_type": "markdown",
      "source": [
        "## Загрузка данных в модель"
      ],
      "metadata": {
        "id": "boGS-3oE9sU7"
      }
    },
    {
      "cell_type": "code",
      "source": [
        "results = df_merged['next_sem_debts'].to_numpy()\n",
        "print(f'Минимальное количество двоек: {results.min()}')\n",
        "print(f'Максимальное количество двоек: {results.max()}')\n",
        "print(f'Среднее количество двоек: {results.mean():.3f}')"
      ],
      "metadata": {
        "id": "zLnVZJXdWzXu"
      },
      "execution_count": null,
      "outputs": []
    },
    {
      "cell_type": "code",
      "source": [
        "df_merged = df_merged.drop('hash', axis=1)"
      ],
      "metadata": {
        "id": "2lG7kxdE9MtX"
      },
      "execution_count": null,
      "outputs": []
    },
    {
      "cell_type": "code",
      "source": [
        "df_merged.head(2)"
      ],
      "metadata": {
        "id": "ocUzg2LPX7aE"
      },
      "execution_count": null,
      "outputs": []
    },
    {
      "cell_type": "markdown",
      "source": [
        "#### Разделение на трейн-тест"
      ],
      "metadata": {
        "id": "tCsczabSm14P"
      }
    },
    {
      "cell_type": "code",
      "source": [
        "X = df_merged.drop('next_sem_debts', axis=1)\n",
        "X = X.round().astype(int)\n",
        "y = df_merged['next_sem_debts']\n",
        "y = y.astype(int)"
      ],
      "metadata": {
        "id": "Yzhl9YEg9zyX"
      },
      "execution_count": null,
      "outputs": []
    },
    {
      "cell_type": "code",
      "source": [
        "X_train, X_test, y_train, y_test = train_test_split(X, y, test_size=0.25, random_state=42)"
      ],
      "metadata": {
        "id": "eAa_FRAw94AI"
      },
      "execution_count": null,
      "outputs": []
    },
    {
      "cell_type": "code",
      "source": [
        "X_train"
      ],
      "metadata": {
        "id": "6uNR_IYdYffM"
      },
      "execution_count": null,
      "outputs": []
    },
    {
      "cell_type": "code",
      "source": [
        "y_train"
      ],
      "metadata": {
        "id": "UImGQc1VAdQL"
      },
      "execution_count": null,
      "outputs": []
    },
    {
      "cell_type": "code",
      "source": [
        "train_pool = Pool(X_train,\n",
        "                  label=y_train)\n",
        "\n",
        "test_pool = Pool(X_test,\n",
        "                 label=y_test)"
      ],
      "metadata": {
        "id": "gWv8PNokEfTM"
      },
      "execution_count": null,
      "outputs": []
    },
    {
      "cell_type": "markdown",
      "source": [
        "#### Подбор гиперпараметров"
      ],
      "metadata": {
        "id": "-V7TiU-0mwwq"
      }
    },
    {
      "cell_type": "code",
      "source": [
        "import optuna\n",
        "from sklearn.model_selection import cross_val_score\n",
        "\n",
        "\n",
        "def objective(trial):\n",
        "    X_train, X_test, y_train, y_test = train_test_split(X, y, test_size=0.25, random_state=42)\n",
        "    params = {\n",
        "        'iterations': trial.suggest_int('iterations', 100, 1000),\n",
        "        'depth': trial.suggest_int('depth', 4, 10),\n",
        "        'learning_rate': trial.suggest_float('learning_rate', 0.01, 0.3),\n",
        "        'random_seed': 42,\n",
        "        'l2_leaf_reg': trial.suggest_float('l2_leaf_reg', 1, 10),\n",
        "        'loss_function': 'RMSE',\n",
        "        'eval_metric': 'R2',\n",
        "    }\n",
        "    model = CatBoostRegressor(**params, verbose=False)\n",
        "    model.fit(X_train, y_train, eval_set=[(X_test, y_test)], early_stopping_rounds=20, verbose=False)\n",
        "    y_pred = model.predict(X_test)\n",
        "    rmse = np.sqrt(mean_squared_error(y_test, y_pred))\n",
        "    return rmse\n",
        "\n",
        "study = optuna.create_study(direction='minimize')\n",
        "study.optimize(objective, n_trials=50)\n",
        "\n",
        "print('Best trial:')\n",
        "best_trial = study.best_trial\n",
        "print(f'  Value: {best_trial.value:.4f}')\n",
        "print('  Params: ')\n",
        "for key, value in best_trial.params.items():\n",
        "    print(f'    {key}: {value}')"
      ],
      "metadata": {
        "id": "OnAxWPOBmyWt"
      },
      "execution_count": null,
      "outputs": []
    },
    {
      "cell_type": "code",
      "source": [
        "model = CatBoostRegressor(custom_metric=['R2'], iterations=1000, learning_rate=0.2)\n",
        "model.fit(train_pool, eval_set=[test_pool], verbose=200)"
      ],
      "metadata": {
        "id": "q9LmtPkcDkYE"
      },
      "execution_count": null,
      "outputs": []
    },
    {
      "cell_type": "code",
      "source": [
        "y_pred = model.predict(X_test)\n",
        "mae = mean_absolute_error(y_test, y_pred)\n",
        "r2 = r2_score(y_test, y_pred)\n",
        "print(f'MAE: {mae:.4f}')\n",
        "print(f'R2: {r2:.4f}')"
      ],
      "metadata": {
        "id": "AEN2CxS_Ty5l"
      },
      "execution_count": null,
      "outputs": []
    },
    {
      "cell_type": "markdown",
      "source": [
        "## Класс студента"
      ],
      "metadata": {
        "id": "9MOktmbvX7qD"
      }
    },
    {
      "cell_type": "code",
      "source": [
        "import json\n",
        "with open('lessons_next.json', 'w', encoding='utf-8') as file:\n",
        "  json.dump(lessons, file, ensure_ascii=False)"
      ],
      "metadata": {
        "id": "fJG-dX7CSDvY"
      },
      "execution_count": null,
      "outputs": []
    },
    {
      "cell_type": "code",
      "source": [
        "lessons = lessons\n",
        "# в приложении все дисциплины загружаются из json файла\n",
        "programs = df_programs.columns.to_list()[2:]\n",
        "\n",
        "class NewStudent:\n",
        "  def __init__(self):\n",
        "        self.lessons = lessons\n",
        "        self.programs = programs\n",
        "        self.data = {key: np.NaN for key in list(self.lessons) + list(self.programs)}\n",
        "\n",
        "\n",
        "  def add_score(self, key, score):\n",
        "    if key in self.data:\n",
        "      self.data[key] = score\n",
        "\n",
        "\n",
        "  def load_data_from_dict(self, data_dict):\n",
        "      for lesson, score in data_dict.items():\n",
        "          if lesson in self.data:\n",
        "              self.data[lesson] = score\n",
        "\n",
        "  def data_processing(self):\n",
        "    student_data = np.array(self.prepare_data_for_prediction()).reshape(1, -1)\n",
        "    student_data = np.nan_to_num(student_data, nan=0, copy=True)\n",
        "    student_data = student_data.astype(int)\n",
        "    return student_data\n",
        "\n",
        "  def prepare_data_for_prediction(self):\n",
        "    return [self.data[key] for key in self.data]"
      ],
      "metadata": {
        "id": "RtDGG4TvX9Zp"
      },
      "execution_count": null,
      "outputs": []
    },
    {
      "cell_type": "code",
      "source": [
        "student = NewStudent()\n",
        "student.add_score('БПМ', 1)\n",
        "student.add_score('Семестр', 1)\n",
        "student.add_score('Введение в специальность', 5)\n",
        "student.add_score('Вычислительные машины, сети и системы', 5)\n",
        "student.add_score('Иностранный язык', 5)\n",
        "student.add_score('Математика', 5)\n",
        "student.add_score('Программирование и алгоритмизация', 5)\n",
        "student.add_score('Физика', 5)\n",
        "student.add_score('Физическая культура и спорт', 5)\n",
        "student.add_score('Объектно-ориентированное программирование', 5)"
      ],
      "metadata": {
        "id": "w5kfsiPYZI_o"
      },
      "execution_count": null,
      "outputs": []
    },
    {
      "cell_type": "markdown",
      "source": [
        "Предскажем долю двоек в следующем семестре"
      ],
      "metadata": {
        "id": "XWobyiV-CITa"
      }
    },
    {
      "cell_type": "code",
      "source": [
        "res = model.predict(student.data_processing()).round().astype(int)\n",
        "print(f'Количество двоек в следующем семестре: {res[0]}')"
      ],
      "metadata": {
        "id": "CdtoTuzoZ-jB"
      },
      "execution_count": null,
      "outputs": []
    },
    {
      "cell_type": "markdown",
      "source": [
        "## Экспорт модели"
      ],
      "metadata": {
        "id": "UtToVg254TC9"
      }
    },
    {
      "cell_type": "code",
      "source": [
        "import pickle\n",
        "\n",
        "with open('scoring_next_sem.pkl', 'wb') as file:\n",
        "  pickle.dump(model, file)"
      ],
      "metadata": {
        "id": "i8cCgNml4Wpc"
      },
      "execution_count": null,
      "outputs": []
    }
  ]
}